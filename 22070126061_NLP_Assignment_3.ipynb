{
  "metadata": {
    "kaggle": {
      "accelerator": "nvidiaTeslaT4",
      "dataSources": [
        {
          "sourceId": 9494006,
          "sourceType": "datasetVersion",
          "datasetId": 5776898
        }
      ],
      "isInternetEnabled": true,
      "language": "python",
      "sourceType": "notebook",
      "isGpuEnabled": true
    },
    "kernelspec": {
      "display_name": "Python 3",
      "language": "python",
      "name": "python3"
    },
    "language_info": {
      "name": "python",
      "version": "3.10.14",
      "mimetype": "text/x-python",
      "codemirror_mode": {
        "name": "ipython",
        "version": 3
      },
      "pygments_lexer": "ipython3",
      "nbconvert_exporter": "python",
      "file_extension": ".py"
    },
    "colab": {
      "provenance": [],
      "include_colab_link": true
    }
  },
  "nbformat_minor": 0,
  "nbformat": 4,
  "cells": [
    {
      "cell_type": "markdown",
      "metadata": {
        "id": "view-in-github",
        "colab_type": "text"
      },
      "source": [
        "<a href=\"https://colab.research.google.com/github/madhusudanhasbe/Natural_Language_Processing_Lab/blob/main/22070126061_NLP_Assignment_3.ipynb\" target=\"_parent\"><img src=\"https://colab.research.google.com/assets/colab-badge.svg\" alt=\"Open In Colab\"/></a>"
      ]
    },
    {
      "cell_type": "markdown",
      "source": [
        "# **ASSIGNMENT 3**"
      ],
      "metadata": {
        "id": "RvfP2wn7W-Zr"
      }
    },
    {
      "cell_type": "markdown",
      "source": [
        "> Name: Madhusudan Hasbe\\\n",
        "> PRN: 22070126061\\\n",
        "> TY AIML A3"
      ],
      "metadata": {
        "id": "a8KrLR_0W-Zv"
      }
    },
    {
      "cell_type": "markdown",
      "source": [
        "*Github Link: https://github.com/madhusudanhasbe/Natural_Language_Processing_Lab/blob/main/22070126061_NLP_Assignment_3.ipynb*"
      ],
      "metadata": {
        "id": "1CbulD3mW-Zw"
      }
    },
    {
      "cell_type": "code",
      "source": [
        "pip install sacrebleu"
      ],
      "metadata": {
        "execution": {
          "iopub.status.busy": "2024-10-02T04:47:59.098949Z",
          "iopub.execute_input": "2024-10-02T04:47:59.099667Z",
          "iopub.status.idle": "2024-10-02T04:48:11.790638Z",
          "shell.execute_reply.started": "2024-10-02T04:47:59.099626Z",
          "shell.execute_reply": "2024-10-02T04:48:11.789441Z"
        },
        "trusted": true,
        "id": "MXYnplRIW-Zy",
        "outputId": "bdcac861-c104-4bb2-cdae-4a7801ab662e"
      },
      "execution_count": null,
      "outputs": [
        {
          "name": "stdout",
          "text": "Collecting sacrebleu\n  Downloading sacrebleu-2.4.3-py3-none-any.whl.metadata (51 kB)\n\u001b[2K     \u001b[90m━━━━━━━━━━━━━━━━━━━━━━━━━━━━━━━━━━━━━━━━\u001b[0m \u001b[32m51.8/51.8 kB\u001b[0m \u001b[31m2.3 MB/s\u001b[0m eta \u001b[36m0:00:00\u001b[0m\n\u001b[?25hCollecting portalocker (from sacrebleu)\n  Downloading portalocker-2.10.1-py3-none-any.whl.metadata (8.5 kB)\nRequirement already satisfied: regex in /opt/conda/lib/python3.10/site-packages (from sacrebleu) (2024.5.15)\nRequirement already satisfied: tabulate>=0.8.9 in /opt/conda/lib/python3.10/site-packages (from sacrebleu) (0.9.0)\nRequirement already satisfied: numpy>=1.17 in /opt/conda/lib/python3.10/site-packages (from sacrebleu) (1.26.4)\nRequirement already satisfied: colorama in /opt/conda/lib/python3.10/site-packages (from sacrebleu) (0.4.6)\nRequirement already satisfied: lxml in /opt/conda/lib/python3.10/site-packages (from sacrebleu) (5.3.0)\nDownloading sacrebleu-2.4.3-py3-none-any.whl (103 kB)\n\u001b[2K   \u001b[90m━━━━━━━━━━━━━━━━━━━━━━━━━━━━━━━━━━━━━━━━\u001b[0m \u001b[32m104.0/104.0 kB\u001b[0m \u001b[31m4.7 MB/s\u001b[0m eta \u001b[36m0:00:00\u001b[0m\n\u001b[?25hDownloading portalocker-2.10.1-py3-none-any.whl (18 kB)\nInstalling collected packages: portalocker, sacrebleu\nSuccessfully installed portalocker-2.10.1 sacrebleu-2.4.3\nNote: you may need to restart the kernel to use updated packages.\n",
          "output_type": "stream"
        }
      ]
    },
    {
      "cell_type": "code",
      "source": [
        "import torch\n",
        "import pandas as pd\n",
        "import sacrebleu\n",
        "from transformers import MarianMTModel, MarianTokenizer, MBartForConditionalGeneration, MBart50TokenizerFast\n",
        "from tqdm import tqdm"
      ],
      "metadata": {
        "_cell_guid": "b1076dfc-b9ad-4769-8c92-a6c4dae69d19",
        "_uuid": "8f2839f25d086af736a60e9eeb907d3b93b6e0e5",
        "execution": {
          "iopub.status.busy": "2024-10-02T04:48:11.792899Z",
          "iopub.execute_input": "2024-10-02T04:48:11.793228Z",
          "iopub.status.idle": "2024-10-02T04:48:16.987581Z",
          "shell.execute_reply.started": "2024-10-02T04:48:11.793191Z",
          "shell.execute_reply": "2024-10-02T04:48:16.986826Z"
        },
        "trusted": true,
        "id": "5_as4eJUW-Z1"
      },
      "execution_count": null,
      "outputs": []
    },
    {
      "cell_type": "code",
      "source": [
        "# GPU Availability\n",
        "device = torch.device(\"cuda\" if torch.cuda.is_available() else \"cpu\")\n",
        "print(f\"Using device: {device}\")\n"
      ],
      "metadata": {
        "execution": {
          "iopub.status.busy": "2024-10-02T04:48:16.988822Z",
          "iopub.execute_input": "2024-10-02T04:48:16.989356Z",
          "iopub.status.idle": "2024-10-02T04:48:17.055053Z",
          "shell.execute_reply.started": "2024-10-02T04:48:16.989311Z",
          "shell.execute_reply": "2024-10-02T04:48:17.054138Z"
        },
        "trusted": true,
        "id": "zxfLUv3yW-Z2",
        "outputId": "8baef14c-a308-405e-9adf-a06dc3cb905a"
      },
      "execution_count": null,
      "outputs": [
        {
          "name": "stdout",
          "text": "Using device: cuda\n",
          "output_type": "stream"
        }
      ]
    },
    {
      "cell_type": "code",
      "source": [
        "# Loading dataset\n",
        "dataset_path = '/kaggle/input/hindi-english-truncated-corpus/Hindi_English_Truncated_Corpus.csv'\n",
        "data = pd.read_csv(dataset_path)"
      ],
      "metadata": {
        "execution": {
          "iopub.status.busy": "2024-10-02T04:48:17.057647Z",
          "iopub.execute_input": "2024-10-02T04:48:17.058311Z",
          "iopub.status.idle": "2024-10-02T04:48:18.389524Z",
          "shell.execute_reply.started": "2024-10-02T04:48:17.058260Z",
          "shell.execute_reply": "2024-10-02T04:48:18.388508Z"
        },
        "trusted": true,
        "id": "K8-1jRMYW-Z2"
      },
      "execution_count": null,
      "outputs": []
    },
    {
      "cell_type": "code",
      "source": [
        "data.head()"
      ],
      "metadata": {
        "execution": {
          "iopub.status.busy": "2024-10-02T04:48:18.390592Z",
          "iopub.execute_input": "2024-10-02T04:48:18.390929Z",
          "iopub.status.idle": "2024-10-02T04:48:18.410498Z",
          "shell.execute_reply.started": "2024-10-02T04:48:18.390896Z",
          "shell.execute_reply": "2024-10-02T04:48:18.409643Z"
        },
        "trusted": true,
        "id": "Hay-dJ-8W-Z3",
        "outputId": "a00ad44d-18fe-47f0-d57e-a7903b48756c"
      },
      "execution_count": null,
      "outputs": [
        {
          "execution_count": 6,
          "output_type": "execute_result",
          "data": {
            "text/plain": "      source                                   english_sentence  \\\n0        ted  politicians do not have permission to do what ...   \n1        ted         I'd like to tell you about one such child,   \n2  indic2012  This percentage is even greater than the perce...   \n3        ted  what we really mean is that they're bad at not...   \n4  indic2012  .The ending portion of these Vedas is called U...   \n\n                                      hindi_sentence  \n0  राजनीतिज्ञों के पास जो कार्य करना चाहिए, वह कर...  \n1  मई आपको ऐसे ही एक बच्चे के बारे में बताना चाहू...  \n2   यह प्रतिशत भारत में हिन्दुओं प्रतिशत से अधिक है।  \n3     हम ये नहीं कहना चाहते कि वो ध्यान नहीं दे पाते  \n4        इन्हीं वेदों का अंतिम भाग उपनिषद कहलाता है।  ",
            "text/html": "<div>\n<style scoped>\n    .dataframe tbody tr th:only-of-type {\n        vertical-align: middle;\n    }\n\n    .dataframe tbody tr th {\n        vertical-align: top;\n    }\n\n    .dataframe thead th {\n        text-align: right;\n    }\n</style>\n<table border=\"1\" class=\"dataframe\">\n  <thead>\n    <tr style=\"text-align: right;\">\n      <th></th>\n      <th>source</th>\n      <th>english_sentence</th>\n      <th>hindi_sentence</th>\n    </tr>\n  </thead>\n  <tbody>\n    <tr>\n      <th>0</th>\n      <td>ted</td>\n      <td>politicians do not have permission to do what ...</td>\n      <td>राजनीतिज्ञों के पास जो कार्य करना चाहिए, वह कर...</td>\n    </tr>\n    <tr>\n      <th>1</th>\n      <td>ted</td>\n      <td>I'd like to tell you about one such child,</td>\n      <td>मई आपको ऐसे ही एक बच्चे के बारे में बताना चाहू...</td>\n    </tr>\n    <tr>\n      <th>2</th>\n      <td>indic2012</td>\n      <td>This percentage is even greater than the perce...</td>\n      <td>यह प्रतिशत भारत में हिन्दुओं प्रतिशत से अधिक है।</td>\n    </tr>\n    <tr>\n      <th>3</th>\n      <td>ted</td>\n      <td>what we really mean is that they're bad at not...</td>\n      <td>हम ये नहीं कहना चाहते कि वो ध्यान नहीं दे पाते</td>\n    </tr>\n    <tr>\n      <th>4</th>\n      <td>indic2012</td>\n      <td>.The ending portion of these Vedas is called U...</td>\n      <td>इन्हीं वेदों का अंतिम भाग उपनिषद कहलाता है।</td>\n    </tr>\n  </tbody>\n</table>\n</div>"
          },
          "metadata": {}
        }
      ]
    },
    {
      "cell_type": "code",
      "source": [
        "data.isnull().sum()"
      ],
      "metadata": {
        "execution": {
          "iopub.status.busy": "2024-10-02T04:48:18.411551Z",
          "iopub.execute_input": "2024-10-02T04:48:18.411847Z",
          "iopub.status.idle": "2024-10-02T04:48:18.455668Z",
          "shell.execute_reply.started": "2024-10-02T04:48:18.411816Z",
          "shell.execute_reply": "2024-10-02T04:48:18.454602Z"
        },
        "trusted": true,
        "id": "Iy0p_GUwW-Z4",
        "outputId": "cd5ef63e-66a0-4743-f582-aef77b4f2526"
      },
      "execution_count": null,
      "outputs": [
        {
          "execution_count": 7,
          "output_type": "execute_result",
          "data": {
            "text/plain": "source              0\nenglish_sentence    2\nhindi_sentence      0\ndtype: int64"
          },
          "metadata": {}
        }
      ]
    },
    {
      "cell_type": "code",
      "source": [
        "# Dropping rows where the English sentence is missing or not a valid string\n",
        "data = data.dropna(subset=['english_sentence', 'hindi_sentence'])\n",
        "data = data[data['english_sentence'].apply(lambda x: isinstance(x, str) and x.strip() != '')]\n"
      ],
      "metadata": {
        "execution": {
          "iopub.status.busy": "2024-10-02T04:48:18.457092Z",
          "iopub.execute_input": "2024-10-02T04:48:18.457408Z",
          "iopub.status.idle": "2024-10-02T04:48:18.565593Z",
          "shell.execute_reply.started": "2024-10-02T04:48:18.457374Z",
          "shell.execute_reply": "2024-10-02T04:48:18.564672Z"
        },
        "trusted": true,
        "id": "DeegsRq-W-Z5"
      },
      "execution_count": null,
      "outputs": []
    },
    {
      "cell_type": "code",
      "source": [
        "# Loading MarianMT model and tokenizer for English to Hindi translation\n",
        "marian_model_name = \"Helsinki-NLP/opus-mt-en-hi\"\n",
        "marian_tokenizer = MarianTokenizer.from_pretrained(marian_model_name)\n",
        "marian_model = MarianMTModel.from_pretrained(marian_model_name).to(device)\n"
      ],
      "metadata": {
        "execution": {
          "iopub.status.busy": "2024-10-01T19:59:30.672600Z",
          "iopub.execute_input": "2024-10-01T19:59:30.673350Z",
          "iopub.status.idle": "2024-10-01T19:59:41.612829Z",
          "shell.execute_reply.started": "2024-10-01T19:59:30.673297Z",
          "shell.execute_reply": "2024-10-01T19:59:41.611696Z"
        },
        "trusted": true,
        "colab": {
          "referenced_widgets": [
            "a18280a0908041d9995e76c0db15b6fa",
            "387ad6881f8142078ddc9c8baa0347a0",
            "abb82c1ea441459ebc8fbd0d69cdd902",
            "94f90843f82a42c586ef17105553f9e4",
            "8bee870b8c494eec99fe2e2126104c12",
            "b28d73c60a3b4a5dad48985165f9a919",
            "c908f5ada0f147f0aa702de116d607b0"
          ]
        },
        "id": "7_wmwCWKW-Z6",
        "outputId": "eb1773a6-0022-45d7-c62b-4b64ad4b5259"
      },
      "execution_count": null,
      "outputs": [
        {
          "output_type": "display_data",
          "data": {
            "text/plain": "tokenizer_config.json:   0%|          | 0.00/44.0 [00:00<?, ?B/s]",
            "application/vnd.jupyter.widget-view+json": {
              "version_major": 2,
              "version_minor": 0,
              "model_id": "a18280a0908041d9995e76c0db15b6fa"
            }
          },
          "metadata": {}
        },
        {
          "output_type": "display_data",
          "data": {
            "text/plain": "source.spm:   0%|          | 0.00/812k [00:00<?, ?B/s]",
            "application/vnd.jupyter.widget-view+json": {
              "version_major": 2,
              "version_minor": 0,
              "model_id": "387ad6881f8142078ddc9c8baa0347a0"
            }
          },
          "metadata": {}
        },
        {
          "output_type": "display_data",
          "data": {
            "text/plain": "target.spm:   0%|          | 0.00/1.07M [00:00<?, ?B/s]",
            "application/vnd.jupyter.widget-view+json": {
              "version_major": 2,
              "version_minor": 0,
              "model_id": "abb82c1ea441459ebc8fbd0d69cdd902"
            }
          },
          "metadata": {}
        },
        {
          "output_type": "display_data",
          "data": {
            "text/plain": "vocab.json:   0%|          | 0.00/2.10M [00:00<?, ?B/s]",
            "application/vnd.jupyter.widget-view+json": {
              "version_major": 2,
              "version_minor": 0,
              "model_id": "94f90843f82a42c586ef17105553f9e4"
            }
          },
          "metadata": {}
        },
        {
          "output_type": "display_data",
          "data": {
            "text/plain": "config.json:   0%|          | 0.00/1.39k [00:00<?, ?B/s]",
            "application/vnd.jupyter.widget-view+json": {
              "version_major": 2,
              "version_minor": 0,
              "model_id": "8bee870b8c494eec99fe2e2126104c12"
            }
          },
          "metadata": {}
        },
        {
          "name": "stderr",
          "text": "/opt/conda/lib/python3.10/site-packages/transformers/models/marian/tokenization_marian.py:175: UserWarning: Recommended: pip install sacremoses.\n  warnings.warn(\"Recommended: pip install sacremoses.\")\n/opt/conda/lib/python3.10/site-packages/transformers/tokenization_utils_base.py:1601: FutureWarning: `clean_up_tokenization_spaces` was not set. It will be set to `True` by default. This behavior will be depracted in transformers v4.45, and will be then set to `False` by default. For more details check this issue: https://github.com/huggingface/transformers/issues/31884\n  warnings.warn(\n",
          "output_type": "stream"
        },
        {
          "output_type": "display_data",
          "data": {
            "text/plain": "pytorch_model.bin:   0%|          | 0.00/306M [00:00<?, ?B/s]",
            "application/vnd.jupyter.widget-view+json": {
              "version_major": 2,
              "version_minor": 0,
              "model_id": "b28d73c60a3b4a5dad48985165f9a919"
            }
          },
          "metadata": {}
        },
        {
          "output_type": "display_data",
          "data": {
            "text/plain": "generation_config.json:   0%|          | 0.00/293 [00:00<?, ?B/s]",
            "application/vnd.jupyter.widget-view+json": {
              "version_major": 2,
              "version_minor": 0,
              "model_id": "c908f5ada0f147f0aa702de116d607b0"
            }
          },
          "metadata": {}
        }
      ]
    },
    {
      "cell_type": "code",
      "source": [
        "def translate_marian_batch(texts, max_length=512):\n",
        "    inputs = marian_tokenizer(texts, return_tensors=\"pt\", padding=True, truncation=True, max_length=max_length).to(device)\n",
        "    with torch.no_grad():\n",
        "        translated = marian_model.generate(**inputs)\n",
        "    return marian_tokenizer.batch_decode(translated, skip_special_tokens=True)"
      ],
      "metadata": {
        "execution": {
          "iopub.status.busy": "2024-10-01T19:59:41.630131Z",
          "iopub.execute_input": "2024-10-01T19:59:41.630439Z",
          "iopub.status.idle": "2024-10-01T19:59:41.638587Z",
          "shell.execute_reply.started": "2024-10-01T19:59:41.630404Z",
          "shell.execute_reply": "2024-10-01T19:59:41.637543Z"
        },
        "trusted": true,
        "id": "3Ffq7X0qW-Z7"
      },
      "execution_count": null,
      "outputs": []
    },
    {
      "cell_type": "code",
      "source": [
        "# Lists to store translations from both models\n",
        "translations_marian = []\n",
        "reference_hindi_sentences = []"
      ],
      "metadata": {
        "execution": {
          "iopub.status.busy": "2024-10-01T19:59:41.648404Z",
          "iopub.execute_input": "2024-10-01T19:59:41.648705Z",
          "iopub.status.idle": "2024-10-01T19:59:41.658302Z",
          "shell.execute_reply.started": "2024-10-01T19:59:41.648672Z",
          "shell.execute_reply": "2024-10-01T19:59:41.657544Z"
        },
        "trusted": true,
        "id": "RqC6fBuaW-Z8"
      },
      "execution_count": null,
      "outputs": []
    },
    {
      "cell_type": "code",
      "source": [
        "batch_size = 32\n",
        "for i in tqdm(range(0, len(data), batch_size), desc=\"Translating\"):\n",
        "    batch_data = data.iloc[i:i+batch_size]\n",
        "\n",
        "    # Get the English sentences and reference Hindi sentences\n",
        "    english_sentences = batch_data['english_sentence'].tolist()\n",
        "    reference_hindi_batch = batch_data['hindi_sentence'].tolist()\n",
        "\n",
        "    # Translate the batch using MarianMT model\n",
        "    translation_marian_batch = translate_marian_batch(english_sentences)\n",
        "\n",
        "    # Append translations and reference sentences\n",
        "    translations_marian.extend(translation_marian_batch)\n",
        "    reference_hindi_sentences.extend(reference_hindi_batch)"
      ],
      "metadata": {
        "execution": {
          "iopub.status.busy": "2024-10-01T19:59:41.659601Z",
          "iopub.execute_input": "2024-10-01T19:59:41.660284Z",
          "iopub.status.idle": "2024-10-01T22:30:29.582562Z",
          "shell.execute_reply.started": "2024-10-01T19:59:41.660236Z",
          "shell.execute_reply": "2024-10-01T22:30:29.581472Z"
        },
        "trusted": true,
        "id": "1mIVZUXCW-Z8",
        "outputId": "930f7d03-1ce0-4048-8000-a94bab634952"
      },
      "execution_count": null,
      "outputs": [
        {
          "name": "stderr",
          "text": "Translating: 100%|██████████| 3988/3988 [2:30:47<00:00,  2.27s/it]  \n",
          "output_type": "stream"
        }
      ]
    },
    {
      "cell_type": "code",
      "source": [
        "# Calculate BLEU score for MarianMT model\n",
        "bleu_marian = sacrebleu.corpus_bleu(translations_marian, [reference_hindi_sentences])"
      ],
      "metadata": {
        "execution": {
          "iopub.status.busy": "2024-10-01T22:30:29.584049Z",
          "iopub.execute_input": "2024-10-01T22:30:29.584418Z",
          "iopub.status.idle": "2024-10-01T22:31:09.534436Z",
          "shell.execute_reply.started": "2024-10-01T22:30:29.584381Z",
          "shell.execute_reply": "2024-10-01T22:31:09.533401Z"
        },
        "trusted": true,
        "id": "qCoU_BznW-Z9"
      },
      "execution_count": null,
      "outputs": []
    },
    {
      "cell_type": "code",
      "source": [
        "# Output the BLEU scores\n",
        "print(f\"BLEU Score for MarianMT Model ({marian_model_name}): {bleu_marian.score}\")"
      ],
      "metadata": {
        "execution": {
          "iopub.status.busy": "2024-10-01T22:31:09.539232Z",
          "iopub.execute_input": "2024-10-01T22:31:09.539567Z",
          "iopub.status.idle": "2024-10-01T22:31:09.545290Z",
          "shell.execute_reply.started": "2024-10-01T22:31:09.539532Z",
          "shell.execute_reply": "2024-10-01T22:31:09.544179Z"
        },
        "trusted": true,
        "id": "MWcw4YGHW-Z9",
        "outputId": "ad437fc8-c0ab-4772-ce66-0584a94f720b"
      },
      "execution_count": null,
      "outputs": [
        {
          "name": "stdout",
          "text": "BLEU Score for MarianMT Model (Helsinki-NLP/opus-mt-en-hi): 7.127563539913191\n",
          "output_type": "stream"
        }
      ]
    },
    {
      "cell_type": "code",
      "source": [
        "# Display 10 samples of actual and predicted translations\n",
        "print(\"\\nDisplaying 10 sample translations:\")\n",
        "for idx in range(10):\n",
        "    print(f\"Sample {idx + 1}:\")\n",
        "    print(f\"English Sentence: {data.iloc[idx]['english_sentence']}\")\n",
        "    print(f\"Actual Hindi Sentence: {reference_hindi_sentences[idx]}\")\n",
        "    print(f\"Predicted Hindi Sentence: {translations_marian[idx]}\")\n",
        "    print('-' * 80)"
      ],
      "metadata": {
        "execution": {
          "iopub.status.busy": "2024-10-01T22:31:09.555391Z",
          "iopub.execute_input": "2024-10-01T22:31:09.555775Z",
          "iopub.status.idle": "2024-10-01T22:31:09.565074Z",
          "shell.execute_reply.started": "2024-10-01T22:31:09.555738Z",
          "shell.execute_reply": "2024-10-01T22:31:09.563806Z"
        },
        "trusted": true,
        "id": "lv2sxRjOW-Z-",
        "outputId": "08f4130c-fde6-4e2f-994d-033aeef1b959"
      },
      "execution_count": null,
      "outputs": [
        {
          "name": "stdout",
          "text": "\nDisplaying 10 sample translations:\nSample 1:\nEnglish Sentence: politicians do not have permission to do what needs to be done.\nActual Hindi Sentence: राजनीतिज्ञों के पास जो कार्य करना चाहिए, वह करने कि अनुमति नहीं है .\nPredicted Hindi Sentence: नेताओं को क्या करने की अनुमति नहीं है ।\n--------------------------------------------------------------------------------\nSample 2:\nEnglish Sentence: I'd like to tell you about one such child,\nActual Hindi Sentence: मई आपको ऐसे ही एक बच्चे के बारे में बताना चाहूंगी,\nPredicted Hindi Sentence: मैं तुम्हें एक ऐसे बच्चे के बारे में बताना चाहते हैं,\n--------------------------------------------------------------------------------\nSample 3:\nEnglish Sentence: This percentage is even greater than the percentage in India.\nActual Hindi Sentence: यह प्रतिशत भारत में हिन्दुओं प्रतिशत से अधिक है।\nPredicted Hindi Sentence: यह प्रतिशत भारत में प्रतिशत से भी बड़ा है.\n--------------------------------------------------------------------------------\nSample 4:\nEnglish Sentence: what we really mean is that they're bad at not paying attention.\nActual Hindi Sentence: हम ये नहीं कहना चाहते कि वो ध्यान नहीं दे पाते\nPredicted Hindi Sentence: क्या हम वास्तव में मतलब है कि वे ध्यान नहीं देने पर बुरा कर रहे हैं.\n--------------------------------------------------------------------------------\nSample 5:\nEnglish Sentence: .The ending portion of these Vedas is called Upanishad.\nActual Hindi Sentence: इन्हीं वेदों का अंतिम भाग उपनिषद कहलाता है।\nPredicted Hindi Sentence: इन Vedas का अंत हिस्सा ऊपरियों कहा जाता है।\n--------------------------------------------------------------------------------\nSample 6:\nEnglish Sentence: The then Governor of Kashmir resisted transfer , but was finally reduced to subjection with the aid of British .\nActual Hindi Sentence: कश्मीर के तत्कालीन गवर्नर ने इस हस्तांतरण का विरोध किया था , लेकिन अंग्रेजों की सहायता से उनकी आवाज दबा दी गयी .\nPredicted Hindi Sentence: उस समय यूनान के गवर्नर ने ट्रांसफर का विरोध किया, लेकिन आख़िरकार ब्रिटिश लोगों की सहायता के साथ अधीनता कम कर दी गयी ।\n--------------------------------------------------------------------------------\nSample 7:\nEnglish Sentence: In this lies the circumstances of people before you.\nActual Hindi Sentence: इसमें तुमसे पूर्व गुज़रे हुए लोगों के हालात हैं।\nPredicted Hindi Sentence: इसी तरह (क़यामत में मुर्दों को) निकलना होगा\n--------------------------------------------------------------------------------\nSample 8:\nEnglish Sentence: And who are we to say, even, that they are wrong\nActual Hindi Sentence: और हम होते कौन हैं यह कहने भी वाले कि वे गलत हैं\nPredicted Hindi Sentence: और हम तो ये कहते हैं कि ये लोग सरीही गुमराही में (पड़े) हैं\n--------------------------------------------------------------------------------\nSample 9:\nEnglish Sentence: “”Global Warming“” refer to warming caused in recent decades and probability of its continual presence and its indirect effect on human being.\nActual Hindi Sentence: ग्लोबल वॉर्मिंग से आशय हाल ही के दशकों में हुई वार्मिंग और इसके निरंतर बने रहने के अनुमान और इसके अप्रत्यक्ष रूप से मानव पर पड़ने वाले प्रभाव से है।\nPredicted Hindi Sentence: “\" स्वाभाविक रूप से गर्म“” हाल के दशकों में तापमान और इसके नित्य उपस्थिति की संभावना का उल्लेख करता है और मानव होने पर इसका विशिष्ट प्रभाव पड़ता है.\n--------------------------------------------------------------------------------\nSample 10:\nEnglish Sentence: You may want your child to go to a school that is not run by the LEA - a non-maintained special school or an independent school that can meet your child 's needs .\nActual Hindi Sentence: हो सकता है कि आप चाहते हों कि आप का नऋर्नमेनटेन्ड ह्यबिना किसी समर्थन के हृ विशेष स्कूल , या किसी स्वतंत्र स्कूल में जाए , इजसके पास विशेष शैक्षणिक जऋऋरतों वाले बच्चों के प्रति सहूलियत हों . .\nPredicted Hindi Sentence: आप शायद चाहते हैं कि आपका बच्चा एक स्कूल में जाए जो लिA - एक गैर-विड विशेष स्कूल या एक स्वतंत्र स्कूल के द्वारा नहीं चल रहा है कि आपके बच्चे की ज़रूरतों को पूरा कर सकते हैं।\n--------------------------------------------------------------------------------\n",
          "output_type": "stream"
        }
      ]
    },
    {
      "cell_type": "code",
      "source": [
        "mbart_model_name = \"facebook/mbart-large-50-many-to-many-mmt\"\n",
        "model = MBartForConditionalGeneration.from_pretrained(mbart_model_name)\n",
        "tokenizer = MBart50TokenizerFast.from_pretrained(mbart_model_name)"
      ],
      "metadata": {
        "execution": {
          "iopub.status.busy": "2024-10-02T04:48:19.031406Z",
          "iopub.execute_input": "2024-10-02T04:48:19.031830Z",
          "iopub.status.idle": "2024-10-02T04:48:42.446787Z",
          "shell.execute_reply.started": "2024-10-02T04:48:19.031790Z",
          "shell.execute_reply": "2024-10-02T04:48:42.444747Z"
        },
        "trusted": true,
        "colab": {
          "referenced_widgets": [
            "6cfe1f241015407b81a9ab500233bb40",
            "56e0af52ffdd4bc5b30f041299ba612c",
            "f52b440737934144baf1f4c01932bb7c",
            "b1bf3a280aef482392910e9e937e3292",
            "046763c87e10495594db566b81e88cd8",
            "4a6a485c9ebd46c289addd3e8b9c658c"
          ]
        },
        "id": "B3bijgfaW-Z_",
        "outputId": "77b492ab-9a3c-4665-f00b-1dcf96a864f5"
      },
      "execution_count": null,
      "outputs": [
        {
          "output_type": "display_data",
          "data": {
            "text/plain": "config.json:   0%|          | 0.00/1.43k [00:00<?, ?B/s]",
            "application/vnd.jupyter.widget-view+json": {
              "version_major": 2,
              "version_minor": 0,
              "model_id": "6cfe1f241015407b81a9ab500233bb40"
            }
          },
          "metadata": {}
        },
        {
          "output_type": "display_data",
          "data": {
            "text/plain": "model.safetensors:   0%|          | 0.00/2.44G [00:00<?, ?B/s]",
            "application/vnd.jupyter.widget-view+json": {
              "version_major": 2,
              "version_minor": 0,
              "model_id": "56e0af52ffdd4bc5b30f041299ba612c"
            }
          },
          "metadata": {}
        },
        {
          "output_type": "display_data",
          "data": {
            "text/plain": "generation_config.json:   0%|          | 0.00/261 [00:00<?, ?B/s]",
            "application/vnd.jupyter.widget-view+json": {
              "version_major": 2,
              "version_minor": 0,
              "model_id": "f52b440737934144baf1f4c01932bb7c"
            }
          },
          "metadata": {}
        },
        {
          "output_type": "display_data",
          "data": {
            "text/plain": "tokenizer_config.json:   0%|          | 0.00/529 [00:00<?, ?B/s]",
            "application/vnd.jupyter.widget-view+json": {
              "version_major": 2,
              "version_minor": 0,
              "model_id": "b1bf3a280aef482392910e9e937e3292"
            }
          },
          "metadata": {}
        },
        {
          "output_type": "display_data",
          "data": {
            "text/plain": "sentencepiece.bpe.model:   0%|          | 0.00/5.07M [00:00<?, ?B/s]",
            "application/vnd.jupyter.widget-view+json": {
              "version_major": 2,
              "version_minor": 0,
              "model_id": "046763c87e10495594db566b81e88cd8"
            }
          },
          "metadata": {}
        },
        {
          "output_type": "display_data",
          "data": {
            "text/plain": "special_tokens_map.json:   0%|          | 0.00/649 [00:00<?, ?B/s]",
            "application/vnd.jupyter.widget-view+json": {
              "version_major": 2,
              "version_minor": 0,
              "model_id": "4a6a485c9ebd46c289addd3e8b9c658c"
            }
          },
          "metadata": {}
        },
        {
          "name": "stderr",
          "text": "/opt/conda/lib/python3.10/site-packages/transformers/tokenization_utils_base.py:1601: FutureWarning: `clean_up_tokenization_spaces` was not set. It will be set to `True` by default. This behavior will be depracted in transformers v4.45, and will be then set to `False` by default. For more details check this issue: https://github.com/huggingface/transformers/issues/31884\n  warnings.warn(\n",
          "output_type": "stream"
        }
      ]
    },
    {
      "cell_type": "code",
      "source": [
        "tokenizer.src_lang = \"en_XX\"  # Source language English\n",
        "target_lang = \"hi_IN\""
      ],
      "metadata": {
        "execution": {
          "iopub.status.busy": "2024-10-02T04:48:42.448881Z",
          "iopub.execute_input": "2024-10-02T04:48:42.449964Z",
          "iopub.status.idle": "2024-10-02T04:48:42.454004Z",
          "shell.execute_reply.started": "2024-10-02T04:48:42.449913Z",
          "shell.execute_reply": "2024-10-02T04:48:42.453112Z"
        },
        "trusted": true,
        "id": "D3bA_uomW-aA"
      },
      "execution_count": null,
      "outputs": []
    },
    {
      "cell_type": "code",
      "source": [
        "def translate_batch(batch_sentences, target_language=\"hi_IN\", max_length=128):\n",
        "    input_texts = [f\"translate English to Hindi: \" + text for text in batch_sentences]\n",
        "    inputs = tokenizer(input_texts, return_tensors=\"pt\", padding=True, truncation=True, max_length=max_length).to(device)\n",
        "    model.config.forced_bos_token_id = tokenizer.lang_code_to_id[target_language]\n",
        "    with torch.no_grad():\n",
        "        with torch.cuda.amp.autocast():\n",
        "            translated = model.generate(**inputs)\n",
        "    return tokenizer.batch_decode(translated, skip_special_tokens=True)"
      ],
      "metadata": {
        "execution": {
          "iopub.status.busy": "2024-10-02T04:48:42.455107Z",
          "iopub.execute_input": "2024-10-02T04:48:42.455403Z",
          "iopub.status.idle": "2024-10-02T04:48:42.467913Z",
          "shell.execute_reply.started": "2024-10-02T04:48:42.455372Z",
          "shell.execute_reply": "2024-10-02T04:48:42.466981Z"
        },
        "trusted": true,
        "id": "vrCOvYULW-aA"
      },
      "execution_count": null,
      "outputs": []
    },
    {
      "cell_type": "code",
      "source": [
        "model = model.to(device)"
      ],
      "metadata": {
        "execution": {
          "iopub.status.busy": "2024-10-02T04:48:42.469530Z",
          "iopub.execute_input": "2024-10-02T04:48:42.469831Z",
          "iopub.status.idle": "2024-10-02T04:48:43.400101Z",
          "shell.execute_reply.started": "2024-10-02T04:48:42.469799Z",
          "shell.execute_reply": "2024-10-02T04:48:43.399198Z"
        },
        "trusted": true,
        "id": "4Or-Ar5fW-aB"
      },
      "execution_count": null,
      "outputs": []
    },
    {
      "cell_type": "code",
      "source": [
        "batch_size = 32\n",
        "translations = []\n",
        "reference_hindi_sentences = []\n",
        "\n",
        "for i in tqdm(range(0, len(data), batch_size)):\n",
        "    batch = data['english_sentence'][i:i+batch_size].tolist()\n",
        "    translations.extend(translate_batch(batch))\n",
        "    reference_hindi_sentences.extend(data['hindi_sentence'][i:i+batch_size].tolist())\n",
        "\n",
        "print(f\"Sample 1:\")\n",
        "print(f\"English Sentence: {data.iloc[0]['english_sentence']}\")\n",
        "print(f\"Actual Hindi Sentence: {data.iloc[0]['hindi_sentence']}\")\n",
        "print(f\"Predicted by mBART: {translations[0]}\")  # Change 'translations_mbart' to 'translations'\n",
        "print('-' * 80)\n",
        "\n",
        "print(f\"Sample {len(data)}:\")\n",
        "print(f\"English Sentence: {data.iloc[-1]['english_sentence']}\")\n",
        "print(f\"Actual Hindi Sentence: {data.iloc[-1]['hindi_sentence']}\")\n",
        "print(f\"Predicted by mBART: {translations[-1]}\")  # Change 'translations_mbart' to 'translations'\n",
        "print('-' * 80)"
      ],
      "metadata": {
        "execution": {
          "iopub.status.busy": "2024-10-02T04:48:58.545051Z",
          "iopub.execute_input": "2024-10-02T04:48:58.545941Z",
          "iopub.status.idle": "2024-10-02T10:43:20.053577Z",
          "shell.execute_reply.started": "2024-10-02T04:48:58.545876Z",
          "shell.execute_reply": "2024-10-02T10:43:20.052673Z"
        },
        "trusted": true,
        "id": "pMilNb1ZW-aC",
        "outputId": "2ac8df2b-5db6-42f0-d610-c719090597f7"
      },
      "execution_count": null,
      "outputs": [
        {
          "name": "stderr",
          "text": "  0%|          | 0/3988 [00:00<?, ?it/s]/tmp/ipykernel_30/2369292898.py:9: FutureWarning: `torch.cuda.amp.autocast(args...)` is deprecated. Please use `torch.amp.autocast('cuda', args...)` instead.\n  with torch.cuda.amp.autocast():\n/opt/conda/lib/python3.10/site-packages/transformers/generation/utils.py:1375: UserWarning: You have modified the pretrained model configuration to control generation. This is a deprecated strategy to control generation and will be removed soon, in a future version. Please use and modify the model generation configuration (see https://huggingface.co/docs/transformers/generation_strategies#default-text-generation-configuration )\n  warnings.warn(\n100%|██████████| 3988/3988 [5:54:21<00:00,  5.33s/it]  ",
          "output_type": "stream"
        },
        {
          "name": "stdout",
          "text": "Sample 1:\nEnglish Sentence: politicians do not have permission to do what needs to be done.\nActual Hindi Sentence: राजनीतिज्ञों के पास जो कार्य करना चाहिए, वह करने कि अनुमति नहीं है .\nPredicted by mBART: अंग्रेजी से हिन्दी में अनुवादः राजनीतिज्ञों को जो कुछ करना है, वह करने की अनुमति नहीं है।\n--------------------------------------------------------------------------------\nSample 127605:\nEnglish Sentence: They've just won four government contracts to build off their 100 ambulances,\nActual Hindi Sentence: हाल ही में उन्हें सरकारी ठेका मिला है करीब सौ नई अम्बुलेन्स बनाने का,\nPredicted by mBART: अंग्रेज़ी से हिन्दी में अनुवाद करेंः उन्होंने अपने 100 एम्बुलेंस बनाने के लिए अभी चार सरकारी संविदाएं जीती हैं,\n--------------------------------------------------------------------------------\n",
          "output_type": "stream"
        },
        {
          "name": "stderr",
          "text": "\n",
          "output_type": "stream"
        }
      ]
    },
    {
      "cell_type": "code",
      "source": [
        "import torch\n",
        "torch.cuda.empty_cache()"
      ],
      "metadata": {
        "execution": {
          "iopub.status.busy": "2024-10-02T04:36:50.615939Z",
          "iopub.execute_input": "2024-10-02T04:36:50.616334Z",
          "iopub.status.idle": "2024-10-02T04:36:50.621089Z",
          "shell.execute_reply.started": "2024-10-02T04:36:50.616296Z",
          "shell.execute_reply": "2024-10-02T04:36:50.620106Z"
        },
        "trusted": true,
        "id": "EGoI4Y-rW-aD"
      },
      "execution_count": null,
      "outputs": []
    },
    {
      "cell_type": "code",
      "source": [
        "import os\n",
        "os.environ['PYTORCH_CUDA_ALLOC_CONF'] = 'expandable_segments:True'"
      ],
      "metadata": {
        "execution": {
          "iopub.status.busy": "2024-10-02T04:36:57.398025Z",
          "iopub.execute_input": "2024-10-02T04:36:57.398866Z",
          "iopub.status.idle": "2024-10-02T04:36:57.403107Z",
          "shell.execute_reply.started": "2024-10-02T04:36:57.398825Z",
          "shell.execute_reply": "2024-10-02T04:36:57.402098Z"
        },
        "trusted": true,
        "id": "L-mM5JCGW-aD"
      },
      "execution_count": null,
      "outputs": []
    },
    {
      "cell_type": "code",
      "source": [
        "bleu_t5 = sacrebleu.corpus_bleu(translations, [reference_hindi_sentences])\n",
        "print(f\"BLEU Score for mBART Model: {bleu_t5.score}\")"
      ],
      "metadata": {
        "execution": {
          "iopub.status.busy": "2024-10-02T10:53:01.805456Z",
          "iopub.execute_input": "2024-10-02T10:53:01.806191Z",
          "iopub.status.idle": "2024-10-02T10:53:40.013475Z",
          "shell.execute_reply.started": "2024-10-02T10:53:01.806148Z",
          "shell.execute_reply": "2024-10-02T10:53:40.012491Z"
        },
        "trusted": true,
        "id": "1qKRwbl5W-aE",
        "outputId": "b5c6a1ad-01ae-4193-ca8a-1185dfa7ac41"
      },
      "execution_count": null,
      "outputs": [
        {
          "name": "stdout",
          "text": "BLEU Score for mBART Model: 11.51561735505984\n",
          "output_type": "stream"
        }
      ]
    },
    {
      "cell_type": "code",
      "source": [
        "# Display 10 samples of actual and predicted translations\n",
        "print(\"\\nDisplaying 10 sample translations:\")\n",
        "for idx in range(10):\n",
        "    print(f\"Sample {idx + 1}:\")\n",
        "    print(f\"English Sentence: {data.iloc[idx]['english_sentence']}\")\n",
        "    print(f\"Actual Hindi Sentence: {reference_hindi_sentences[idx]}\")\n",
        "    print(f\"Predicted Hindi Sentence: {translations[idx]}\")\n",
        "    print('-' * 80)"
      ],
      "metadata": {
        "execution": {
          "iopub.status.busy": "2024-10-02T11:05:50.862022Z",
          "iopub.execute_input": "2024-10-02T11:05:50.862419Z",
          "iopub.status.idle": "2024-10-02T11:05:50.869399Z",
          "shell.execute_reply.started": "2024-10-02T11:05:50.862381Z",
          "shell.execute_reply": "2024-10-02T11:05:50.868496Z"
        },
        "trusted": true,
        "id": "XBv1-R5nW-aF",
        "outputId": "d5ae87b5-2cd2-4bfc-b1eb-0d6a90282f69"
      },
      "execution_count": null,
      "outputs": [
        {
          "name": "stdout",
          "text": "\nDisplaying 10 sample translations:\nSample 1:\nEnglish Sentence: politicians do not have permission to do what needs to be done.\nActual Hindi Sentence: राजनीतिज्ञों के पास जो कार्य करना चाहिए, वह करने कि अनुमति नहीं है .\nPredicted Hindi Sentence: अंग्रेजी से हिन्दी में अनुवादः राजनीतिज्ञों को जो कुछ करना है, वह करने की अनुमति नहीं है।\n--------------------------------------------------------------------------------\nSample 2:\nEnglish Sentence: I'd like to tell you about one such child,\nActual Hindi Sentence: मई आपको ऐसे ही एक बच्चे के बारे में बताना चाहूंगी,\nPredicted Hindi Sentence: मैं आप को एक ऐसे बच्चे के बारे में बताना चाहूंगा,\n--------------------------------------------------------------------------------\nSample 3:\nEnglish Sentence: This percentage is even greater than the percentage in India.\nActual Hindi Sentence: यह प्रतिशत भारत में हिन्दुओं प्रतिशत से अधिक है।\nPredicted Hindi Sentence: अंग्रेजी से हिन्दी में अनुवादः यह प्रतिशत भारत के प्रतिशत से भी अधिक है।\n--------------------------------------------------------------------------------\nSample 4:\nEnglish Sentence: what we really mean is that they're bad at not paying attention.\nActual Hindi Sentence: हम ये नहीं कहना चाहते कि वो ध्यान नहीं दे पाते\nPredicted Hindi Sentence: अंग्रेजी से हिन्दी में अनुवाद करेंः हमारा मतलब यह है कि वे ध्यान न देने में बुरे हैं।\n--------------------------------------------------------------------------------\nSample 5:\nEnglish Sentence: .The ending portion of these Vedas is called Upanishad.\nActual Hindi Sentence: इन्हीं वेदों का अंतिम भाग उपनिषद कहलाता है।\nPredicted Hindi Sentence: इन वेदों का अंतिम भाग उपनिषद् कहलाता है।\n--------------------------------------------------------------------------------\nSample 6:\nEnglish Sentence: The then Governor of Kashmir resisted transfer , but was finally reduced to subjection with the aid of British .\nActual Hindi Sentence: कश्मीर के तत्कालीन गवर्नर ने इस हस्तांतरण का विरोध किया था , लेकिन अंग्रेजों की सहायता से उनकी आवाज दबा दी गयी .\nPredicted Hindi Sentence: काश्मीर के तत्कालीन गवर्नर ने स्थानांतरण का विरोध किया किंतु अंततः अंग्रेजों की सहायता से उसे अधीन कर दिया गया।\n--------------------------------------------------------------------------------\nSample 7:\nEnglish Sentence: In this lies the circumstances of people before you.\nActual Hindi Sentence: इसमें तुमसे पूर्व गुज़रे हुए लोगों के हालात हैं।\nPredicted Hindi Sentence: अंग्रेजी से हिन्दी में अनुवाद करेंः इसमें आपके सामने मौजूद लोगों की परिस्थितियां हैं।\n--------------------------------------------------------------------------------\nSample 8:\nEnglish Sentence: And who are we to say, even, that they are wrong\nActual Hindi Sentence: और हम होते कौन हैं यह कहने भी वाले कि वे गलत हैं\nPredicted Hindi Sentence: अंग्रेज़ी से हिन्दी में अनुवाद करेंः और हम क्या कहेंगे कि वे गलत हैं\n--------------------------------------------------------------------------------\nSample 9:\nEnglish Sentence: “”Global Warming“” refer to warming caused in recent decades and probability of its continual presence and its indirect effect on human being.\nActual Hindi Sentence: ग्लोबल वॉर्मिंग से आशय हाल ही के दशकों में हुई वार्मिंग और इसके निरंतर बने रहने के अनुमान और इसके अप्रत्यक्ष रूप से मानव पर पड़ने वाले प्रभाव से है।\nPredicted Hindi Sentence: अंग्रेजी से हिन्दी में अनुवाद करेंः ग्लोबल वार्मिंग का अर्थ है हाल के दशकों में उत्पन्न तापमान और इसकी निरंतर उपस्थिति और मानव पर इसके अप्रत्यक्ष प्रभाव की संभावना।\n--------------------------------------------------------------------------------\nSample 10:\nEnglish Sentence: You may want your child to go to a school that is not run by the LEA - a non-maintained special school or an independent school that can meet your child 's needs .\nActual Hindi Sentence: हो सकता है कि आप चाहते हों कि आप का नऋर्नमेनटेन्ड ह्यबिना किसी समर्थन के हृ विशेष स्कूल , या किसी स्वतंत्र स्कूल में जाए , इजसके पास विशेष शैक्षणिक जऋऋरतों वाले बच्चों के प्रति सहूलियत हों . .\nPredicted Hindi Sentence: अंग्रेज़ी से हिन्दी में अनुवादः आप चाहते हैं कि आपका बच्चा ऐसे स्कूल में जाये जो एलईए द्वारा संचालित नहीं है-एक गैर-रक्षित विशेष स्कूल या एक स्वतंत्र स्कूल जो आपके बच्चे की जरूरतों को पूरा कर सके।\n--------------------------------------------------------------------------------\n",
          "output_type": "stream"
        }
      ]
    },
    {
      "cell_type": "code",
      "source": [
        "!apt-get install texlive texlive-xetex texlive-latex-extra pandoc\n",
        "!pip install pypandoc"
      ],
      "metadata": {
        "colab": {
          "base_uri": "https://localhost:8080/"
        },
        "id": "QfaAhQl0XEV8",
        "outputId": "692a0ac1-fdb7-463d-bdd3-40a974afbd4c"
      },
      "execution_count": 1,
      "outputs": [
        {
          "output_type": "stream",
          "name": "stdout",
          "text": [
            "Reading package lists... Done\n",
            "Building dependency tree... Done\n",
            "Reading state information... Done\n",
            "The following additional packages will be installed:\n",
            "  dvisvgm fonts-droid-fallback fonts-lato fonts-lmodern fonts-noto-mono fonts-texgyre\n",
            "  fonts-urw-base35 libapache-pom-java libcmark-gfm-extensions0.29.0.gfm.3 libcmark-gfm0.29.0.gfm.3\n",
            "  libcommons-logging-java libcommons-parent-java libfontbox-java libfontenc1 libgs9 libgs9-common\n",
            "  libidn12 libijs-0.35 libjbig2dec0 libkpathsea6 libpdfbox-java libptexenc1 libruby3.0 libsynctex2\n",
            "  libteckit0 libtexlua53 libtexluajit2 libwoff1 libzzip-0-13 lmodern pandoc-data poppler-data\n",
            "  preview-latex-style rake ruby ruby-net-telnet ruby-rubygems ruby-webrick ruby-xmlrpc ruby3.0\n",
            "  rubygems-integration t1utils teckit tex-common tex-gyre texlive-base texlive-binaries\n",
            "  texlive-fonts-recommended texlive-latex-base texlive-latex-recommended texlive-pictures\n",
            "  texlive-plain-generic tipa xfonts-encodings xfonts-utils\n",
            "Suggested packages:\n",
            "  fonts-noto fonts-freefont-otf | fonts-freefont-ttf libavalon-framework-java\n",
            "  libcommons-logging-java-doc libexcalibur-logkit-java liblog4j1.2-java texlive-luatex\n",
            "  pandoc-citeproc context wkhtmltopdf librsvg2-bin groff ghc nodejs php python libjs-mathjax\n",
            "  libjs-katex citation-style-language-styles poppler-utils ghostscript fonts-japanese-mincho\n",
            "  | fonts-ipafont-mincho fonts-japanese-gothic | fonts-ipafont-gothic fonts-arphic-ukai\n",
            "  fonts-arphic-uming fonts-nanum ri ruby-dev bundler debhelper gv | postscript-viewer perl-tk xpdf\n",
            "  | pdf-viewer xzdec texlive-fonts-recommended-doc texlive-latex-base-doc python3-pygments\n",
            "  icc-profiles libfile-which-perl libspreadsheet-parseexcel-perl texlive-latex-extra-doc\n",
            "  texlive-latex-recommended-doc texlive-pstricks dot2tex prerex texlive-pictures-doc vprerex\n",
            "  default-jre-headless tipa-doc\n",
            "The following NEW packages will be installed:\n",
            "  dvisvgm fonts-droid-fallback fonts-lato fonts-lmodern fonts-noto-mono fonts-texgyre\n",
            "  fonts-urw-base35 libapache-pom-java libcmark-gfm-extensions0.29.0.gfm.3 libcmark-gfm0.29.0.gfm.3\n",
            "  libcommons-logging-java libcommons-parent-java libfontbox-java libfontenc1 libgs9 libgs9-common\n",
            "  libidn12 libijs-0.35 libjbig2dec0 libkpathsea6 libpdfbox-java libptexenc1 libruby3.0 libsynctex2\n",
            "  libteckit0 libtexlua53 libtexluajit2 libwoff1 libzzip-0-13 lmodern pandoc pandoc-data\n",
            "  poppler-data preview-latex-style rake ruby ruby-net-telnet ruby-rubygems ruby-webrick ruby-xmlrpc\n",
            "  ruby3.0 rubygems-integration t1utils teckit tex-common tex-gyre texlive texlive-base\n",
            "  texlive-binaries texlive-fonts-recommended texlive-latex-base texlive-latex-extra\n",
            "  texlive-latex-recommended texlive-pictures texlive-plain-generic texlive-xetex tipa\n",
            "  xfonts-encodings xfonts-utils\n",
            "0 upgraded, 59 newly installed, 0 to remove and 49 not upgraded.\n",
            "Need to get 202 MB of archives.\n",
            "After this operation, 728 MB of additional disk space will be used.\n",
            "Get:1 http://archive.ubuntu.com/ubuntu jammy/main amd64 fonts-droid-fallback all 1:6.0.1r16-1.1build1 [1,805 kB]\n",
            "Get:2 http://archive.ubuntu.com/ubuntu jammy/main amd64 fonts-lato all 2.0-2.1 [2,696 kB]\n",
            "Get:3 http://archive.ubuntu.com/ubuntu jammy/main amd64 poppler-data all 0.4.11-1 [2,171 kB]\n",
            "Get:4 http://archive.ubuntu.com/ubuntu jammy/universe amd64 tex-common all 6.17 [33.7 kB]\n",
            "Get:5 http://archive.ubuntu.com/ubuntu jammy/main amd64 fonts-urw-base35 all 20200910-1 [6,367 kB]\n",
            "Get:6 http://archive.ubuntu.com/ubuntu jammy-updates/main amd64 libgs9-common all 9.55.0~dfsg1-0ubuntu5.9 [752 kB]\n",
            "Get:7 http://archive.ubuntu.com/ubuntu jammy-updates/main amd64 libidn12 amd64 1.38-4ubuntu1 [60.0 kB]\n",
            "Get:8 http://archive.ubuntu.com/ubuntu jammy/main amd64 libijs-0.35 amd64 0.35-15build2 [16.5 kB]\n",
            "Get:9 http://archive.ubuntu.com/ubuntu jammy/main amd64 libjbig2dec0 amd64 0.19-3build2 [64.7 kB]\n",
            "Get:10 http://archive.ubuntu.com/ubuntu jammy-updates/main amd64 libgs9 amd64 9.55.0~dfsg1-0ubuntu5.9 [5,033 kB]\n",
            "Get:11 http://archive.ubuntu.com/ubuntu jammy-updates/main amd64 libkpathsea6 amd64 2021.20210626.59705-1ubuntu0.2 [60.4 kB]\n",
            "Get:12 http://archive.ubuntu.com/ubuntu jammy/main amd64 libwoff1 amd64 1.0.2-1build4 [45.2 kB]\n",
            "Get:13 http://archive.ubuntu.com/ubuntu jammy/universe amd64 dvisvgm amd64 2.13.1-1 [1,221 kB]\n",
            "Get:14 http://archive.ubuntu.com/ubuntu jammy/universe amd64 fonts-lmodern all 2.004.5-6.1 [4,532 kB]\n",
            "Get:15 http://archive.ubuntu.com/ubuntu jammy/main amd64 fonts-noto-mono all 20201225-1build1 [397 kB]\n",
            "Get:16 http://archive.ubuntu.com/ubuntu jammy/universe amd64 fonts-texgyre all 20180621-3.1 [10.2 MB]\n",
            "Get:17 http://archive.ubuntu.com/ubuntu jammy/universe amd64 libapache-pom-java all 18-1 [4,720 B]\n",
            "Get:18 http://archive.ubuntu.com/ubuntu jammy/universe amd64 libcmark-gfm0.29.0.gfm.3 amd64 0.29.0.gfm.3-3 [115 kB]\n",
            "Get:19 http://archive.ubuntu.com/ubuntu jammy/universe amd64 libcmark-gfm-extensions0.29.0.gfm.3 amd64 0.29.0.gfm.3-3 [25.1 kB]\n",
            "Get:20 http://archive.ubuntu.com/ubuntu jammy/universe amd64 libcommons-parent-java all 43-1 [10.8 kB]\n",
            "Get:21 http://archive.ubuntu.com/ubuntu jammy/universe amd64 libcommons-logging-java all 1.2-2 [60.3 kB]\n",
            "Get:22 http://archive.ubuntu.com/ubuntu jammy/main amd64 libfontenc1 amd64 1:1.1.4-1build3 [14.7 kB]\n",
            "Get:23 http://archive.ubuntu.com/ubuntu jammy-updates/main amd64 libptexenc1 amd64 2021.20210626.59705-1ubuntu0.2 [39.1 kB]\n",
            "Get:24 http://archive.ubuntu.com/ubuntu jammy/main amd64 rubygems-integration all 1.18 [5,336 B]\n",
            "Get:25 http://archive.ubuntu.com/ubuntu jammy-updates/main amd64 ruby3.0 amd64 3.0.2-7ubuntu2.7 [50.1 kB]\n",
            "Get:26 http://archive.ubuntu.com/ubuntu jammy/main amd64 ruby-rubygems all 3.3.5-2 [228 kB]\n",
            "Get:27 http://archive.ubuntu.com/ubuntu jammy/main amd64 ruby amd64 1:3.0~exp1 [5,100 B]\n",
            "Get:28 http://archive.ubuntu.com/ubuntu jammy/main amd64 rake all 13.0.6-2 [61.7 kB]\n",
            "Get:29 http://archive.ubuntu.com/ubuntu jammy/main amd64 ruby-net-telnet all 0.1.1-2 [12.6 kB]\n",
            "Get:30 http://archive.ubuntu.com/ubuntu jammy/universe amd64 ruby-webrick all 1.7.0-3 [51.8 kB]\n",
            "Get:31 http://archive.ubuntu.com/ubuntu jammy-updates/main amd64 ruby-xmlrpc all 0.3.2-1ubuntu0.1 [24.9 kB]\n",
            "Get:32 http://archive.ubuntu.com/ubuntu jammy-updates/main amd64 libruby3.0 amd64 3.0.2-7ubuntu2.7 [5,113 kB]\n",
            "Get:33 http://archive.ubuntu.com/ubuntu jammy-updates/main amd64 libsynctex2 amd64 2021.20210626.59705-1ubuntu0.2 [55.6 kB]\n",
            "Get:34 http://archive.ubuntu.com/ubuntu jammy/universe amd64 libteckit0 amd64 2.5.11+ds1-1 [421 kB]\n",
            "Get:35 http://archive.ubuntu.com/ubuntu jammy-updates/main amd64 libtexlua53 amd64 2021.20210626.59705-1ubuntu0.2 [120 kB]\n",
            "Get:36 http://archive.ubuntu.com/ubuntu jammy-updates/main amd64 libtexluajit2 amd64 2021.20210626.59705-1ubuntu0.2 [267 kB]\n",
            "Get:37 http://archive.ubuntu.com/ubuntu jammy/universe amd64 libzzip-0-13 amd64 0.13.72+dfsg.1-1.1 [27.0 kB]\n",
            "Get:38 http://archive.ubuntu.com/ubuntu jammy/main amd64 xfonts-encodings all 1:1.0.5-0ubuntu2 [578 kB]\n",
            "Get:39 http://archive.ubuntu.com/ubuntu jammy/main amd64 xfonts-utils amd64 1:7.7+6build2 [94.6 kB]\n",
            "Get:40 http://archive.ubuntu.com/ubuntu jammy/universe amd64 lmodern all 2.004.5-6.1 [9,471 kB]\n",
            "Get:41 http://archive.ubuntu.com/ubuntu jammy/universe amd64 pandoc-data all 2.9.2.1-3ubuntu2 [81.8 kB]\n",
            "Get:42 http://archive.ubuntu.com/ubuntu jammy/universe amd64 pandoc amd64 2.9.2.1-3ubuntu2 [20.3 MB]\n",
            "Get:43 http://archive.ubuntu.com/ubuntu jammy/universe amd64 preview-latex-style all 12.2-1ubuntu1 [185 kB]\n",
            "Get:44 http://archive.ubuntu.com/ubuntu jammy/main amd64 t1utils amd64 1.41-4build2 [61.3 kB]\n",
            "Get:45 http://archive.ubuntu.com/ubuntu jammy/universe amd64 teckit amd64 2.5.11+ds1-1 [699 kB]\n",
            "Get:46 http://archive.ubuntu.com/ubuntu jammy/universe amd64 tex-gyre all 20180621-3.1 [6,209 kB]\n",
            "Get:47 http://archive.ubuntu.com/ubuntu jammy-updates/universe amd64 texlive-binaries amd64 2021.20210626.59705-1ubuntu0.2 [9,860 kB]\n",
            "Get:48 http://archive.ubuntu.com/ubuntu jammy/universe amd64 texlive-base all 2021.20220204-1 [21.0 MB]\n",
            "Get:49 http://archive.ubuntu.com/ubuntu jammy/universe amd64 texlive-fonts-recommended all 2021.20220204-1 [4,972 kB]\n",
            "Get:50 http://archive.ubuntu.com/ubuntu jammy/universe amd64 texlive-latex-base all 2021.20220204-1 [1,128 kB]\n",
            "Get:51 http://archive.ubuntu.com/ubuntu jammy/universe amd64 texlive-latex-recommended all 2021.20220204-1 [14.4 MB]\n",
            "Get:52 http://archive.ubuntu.com/ubuntu jammy/universe amd64 texlive all 2021.20220204-1 [14.3 kB]\n",
            "Get:53 http://archive.ubuntu.com/ubuntu jammy/universe amd64 libfontbox-java all 1:1.8.16-2 [207 kB]\n",
            "Get:54 http://archive.ubuntu.com/ubuntu jammy/universe amd64 libpdfbox-java all 1:1.8.16-2 [5,199 kB]\n",
            "Get:55 http://archive.ubuntu.com/ubuntu jammy/universe amd64 texlive-pictures all 2021.20220204-1 [8,720 kB]\n",
            "Get:56 http://archive.ubuntu.com/ubuntu jammy/universe amd64 texlive-latex-extra all 2021.20220204-1 [13.9 MB]\n",
            "Get:57 http://archive.ubuntu.com/ubuntu jammy/universe amd64 texlive-plain-generic all 2021.20220204-1 [27.5 MB]\n",
            "Get:58 http://archive.ubuntu.com/ubuntu jammy/universe amd64 tipa all 2:1.3-21 [2,967 kB]\n",
            "Get:59 http://archive.ubuntu.com/ubuntu jammy/universe amd64 texlive-xetex all 2021.20220204-1 [12.4 MB]\n",
            "Fetched 202 MB in 10s (21.1 MB/s)\n",
            "Extracting templates from packages: 100%\n",
            "Preconfiguring packages ...\n",
            "Selecting previously unselected package fonts-droid-fallback.\n",
            "(Reading database ... 123620 files and directories currently installed.)\n",
            "Preparing to unpack .../00-fonts-droid-fallback_1%3a6.0.1r16-1.1build1_all.deb ...\n",
            "Unpacking fonts-droid-fallback (1:6.0.1r16-1.1build1) ...\n",
            "Selecting previously unselected package fonts-lato.\n",
            "Preparing to unpack .../01-fonts-lato_2.0-2.1_all.deb ...\n",
            "Unpacking fonts-lato (2.0-2.1) ...\n",
            "Selecting previously unselected package poppler-data.\n",
            "Preparing to unpack .../02-poppler-data_0.4.11-1_all.deb ...\n",
            "Unpacking poppler-data (0.4.11-1) ...\n",
            "Selecting previously unselected package tex-common.\n",
            "Preparing to unpack .../03-tex-common_6.17_all.deb ...\n",
            "Unpacking tex-common (6.17) ...\n",
            "Selecting previously unselected package fonts-urw-base35.\n",
            "Preparing to unpack .../04-fonts-urw-base35_20200910-1_all.deb ...\n",
            "Unpacking fonts-urw-base35 (20200910-1) ...\n",
            "Selecting previously unselected package libgs9-common.\n",
            "Preparing to unpack .../05-libgs9-common_9.55.0~dfsg1-0ubuntu5.9_all.deb ...\n",
            "Unpacking libgs9-common (9.55.0~dfsg1-0ubuntu5.9) ...\n",
            "Selecting previously unselected package libidn12:amd64.\n",
            "Preparing to unpack .../06-libidn12_1.38-4ubuntu1_amd64.deb ...\n",
            "Unpacking libidn12:amd64 (1.38-4ubuntu1) ...\n",
            "Selecting previously unselected package libijs-0.35:amd64.\n",
            "Preparing to unpack .../07-libijs-0.35_0.35-15build2_amd64.deb ...\n",
            "Unpacking libijs-0.35:amd64 (0.35-15build2) ...\n",
            "Selecting previously unselected package libjbig2dec0:amd64.\n",
            "Preparing to unpack .../08-libjbig2dec0_0.19-3build2_amd64.deb ...\n",
            "Unpacking libjbig2dec0:amd64 (0.19-3build2) ...\n",
            "Selecting previously unselected package libgs9:amd64.\n",
            "Preparing to unpack .../09-libgs9_9.55.0~dfsg1-0ubuntu5.9_amd64.deb ...\n",
            "Unpacking libgs9:amd64 (9.55.0~dfsg1-0ubuntu5.9) ...\n",
            "Selecting previously unselected package libkpathsea6:amd64.\n",
            "Preparing to unpack .../10-libkpathsea6_2021.20210626.59705-1ubuntu0.2_amd64.deb ...\n",
            "Unpacking libkpathsea6:amd64 (2021.20210626.59705-1ubuntu0.2) ...\n",
            "Selecting previously unselected package libwoff1:amd64.\n",
            "Preparing to unpack .../11-libwoff1_1.0.2-1build4_amd64.deb ...\n",
            "Unpacking libwoff1:amd64 (1.0.2-1build4) ...\n",
            "Selecting previously unselected package dvisvgm.\n",
            "Preparing to unpack .../12-dvisvgm_2.13.1-1_amd64.deb ...\n",
            "Unpacking dvisvgm (2.13.1-1) ...\n",
            "Selecting previously unselected package fonts-lmodern.\n",
            "Preparing to unpack .../13-fonts-lmodern_2.004.5-6.1_all.deb ...\n",
            "Unpacking fonts-lmodern (2.004.5-6.1) ...\n",
            "Selecting previously unselected package fonts-noto-mono.\n",
            "Preparing to unpack .../14-fonts-noto-mono_20201225-1build1_all.deb ...\n",
            "Unpacking fonts-noto-mono (20201225-1build1) ...\n",
            "Selecting previously unselected package fonts-texgyre.\n",
            "Preparing to unpack .../15-fonts-texgyre_20180621-3.1_all.deb ...\n",
            "Unpacking fonts-texgyre (20180621-3.1) ...\n",
            "Selecting previously unselected package libapache-pom-java.\n",
            "Preparing to unpack .../16-libapache-pom-java_18-1_all.deb ...\n",
            "Unpacking libapache-pom-java (18-1) ...\n",
            "Selecting previously unselected package libcmark-gfm0.29.0.gfm.3:amd64.\n",
            "Preparing to unpack .../17-libcmark-gfm0.29.0.gfm.3_0.29.0.gfm.3-3_amd64.deb ...\n",
            "Unpacking libcmark-gfm0.29.0.gfm.3:amd64 (0.29.0.gfm.3-3) ...\n",
            "Selecting previously unselected package libcmark-gfm-extensions0.29.0.gfm.3:amd64.\n",
            "Preparing to unpack .../18-libcmark-gfm-extensions0.29.0.gfm.3_0.29.0.gfm.3-3_amd64.deb ...\n",
            "Unpacking libcmark-gfm-extensions0.29.0.gfm.3:amd64 (0.29.0.gfm.3-3) ...\n",
            "Selecting previously unselected package libcommons-parent-java.\n",
            "Preparing to unpack .../19-libcommons-parent-java_43-1_all.deb ...\n",
            "Unpacking libcommons-parent-java (43-1) ...\n",
            "Selecting previously unselected package libcommons-logging-java.\n",
            "Preparing to unpack .../20-libcommons-logging-java_1.2-2_all.deb ...\n",
            "Unpacking libcommons-logging-java (1.2-2) ...\n",
            "Selecting previously unselected package libfontenc1:amd64.\n",
            "Preparing to unpack .../21-libfontenc1_1%3a1.1.4-1build3_amd64.deb ...\n",
            "Unpacking libfontenc1:amd64 (1:1.1.4-1build3) ...\n",
            "Selecting previously unselected package libptexenc1:amd64.\n",
            "Preparing to unpack .../22-libptexenc1_2021.20210626.59705-1ubuntu0.2_amd64.deb ...\n",
            "Unpacking libptexenc1:amd64 (2021.20210626.59705-1ubuntu0.2) ...\n",
            "Selecting previously unselected package rubygems-integration.\n",
            "Preparing to unpack .../23-rubygems-integration_1.18_all.deb ...\n",
            "Unpacking rubygems-integration (1.18) ...\n",
            "Selecting previously unselected package ruby3.0.\n",
            "Preparing to unpack .../24-ruby3.0_3.0.2-7ubuntu2.7_amd64.deb ...\n",
            "Unpacking ruby3.0 (3.0.2-7ubuntu2.7) ...\n",
            "Selecting previously unselected package ruby-rubygems.\n",
            "Preparing to unpack .../25-ruby-rubygems_3.3.5-2_all.deb ...\n",
            "Unpacking ruby-rubygems (3.3.5-2) ...\n",
            "Selecting previously unselected package ruby.\n",
            "Preparing to unpack .../26-ruby_1%3a3.0~exp1_amd64.deb ...\n",
            "Unpacking ruby (1:3.0~exp1) ...\n",
            "Selecting previously unselected package rake.\n",
            "Preparing to unpack .../27-rake_13.0.6-2_all.deb ...\n",
            "Unpacking rake (13.0.6-2) ...\n",
            "Selecting previously unselected package ruby-net-telnet.\n",
            "Preparing to unpack .../28-ruby-net-telnet_0.1.1-2_all.deb ...\n",
            "Unpacking ruby-net-telnet (0.1.1-2) ...\n",
            "Selecting previously unselected package ruby-webrick.\n",
            "Preparing to unpack .../29-ruby-webrick_1.7.0-3_all.deb ...\n",
            "Unpacking ruby-webrick (1.7.0-3) ...\n",
            "Selecting previously unselected package ruby-xmlrpc.\n",
            "Preparing to unpack .../30-ruby-xmlrpc_0.3.2-1ubuntu0.1_all.deb ...\n",
            "Unpacking ruby-xmlrpc (0.3.2-1ubuntu0.1) ...\n",
            "Selecting previously unselected package libruby3.0:amd64.\n",
            "Preparing to unpack .../31-libruby3.0_3.0.2-7ubuntu2.7_amd64.deb ...\n",
            "Unpacking libruby3.0:amd64 (3.0.2-7ubuntu2.7) ...\n",
            "Selecting previously unselected package libsynctex2:amd64.\n",
            "Preparing to unpack .../32-libsynctex2_2021.20210626.59705-1ubuntu0.2_amd64.deb ...\n",
            "Unpacking libsynctex2:amd64 (2021.20210626.59705-1ubuntu0.2) ...\n",
            "Selecting previously unselected package libteckit0:amd64.\n",
            "Preparing to unpack .../33-libteckit0_2.5.11+ds1-1_amd64.deb ...\n",
            "Unpacking libteckit0:amd64 (2.5.11+ds1-1) ...\n",
            "Selecting previously unselected package libtexlua53:amd64.\n",
            "Preparing to unpack .../34-libtexlua53_2021.20210626.59705-1ubuntu0.2_amd64.deb ...\n",
            "Unpacking libtexlua53:amd64 (2021.20210626.59705-1ubuntu0.2) ...\n",
            "Selecting previously unselected package libtexluajit2:amd64.\n",
            "Preparing to unpack .../35-libtexluajit2_2021.20210626.59705-1ubuntu0.2_amd64.deb ...\n",
            "Unpacking libtexluajit2:amd64 (2021.20210626.59705-1ubuntu0.2) ...\n",
            "Selecting previously unselected package libzzip-0-13:amd64.\n",
            "Preparing to unpack .../36-libzzip-0-13_0.13.72+dfsg.1-1.1_amd64.deb ...\n",
            "Unpacking libzzip-0-13:amd64 (0.13.72+dfsg.1-1.1) ...\n",
            "Selecting previously unselected package xfonts-encodings.\n",
            "Preparing to unpack .../37-xfonts-encodings_1%3a1.0.5-0ubuntu2_all.deb ...\n",
            "Unpacking xfonts-encodings (1:1.0.5-0ubuntu2) ...\n",
            "Selecting previously unselected package xfonts-utils.\n",
            "Preparing to unpack .../38-xfonts-utils_1%3a7.7+6build2_amd64.deb ...\n",
            "Unpacking xfonts-utils (1:7.7+6build2) ...\n",
            "Selecting previously unselected package lmodern.\n",
            "Preparing to unpack .../39-lmodern_2.004.5-6.1_all.deb ...\n",
            "Unpacking lmodern (2.004.5-6.1) ...\n",
            "Selecting previously unselected package pandoc-data.\n",
            "Preparing to unpack .../40-pandoc-data_2.9.2.1-3ubuntu2_all.deb ...\n",
            "Unpacking pandoc-data (2.9.2.1-3ubuntu2) ...\n",
            "Selecting previously unselected package pandoc.\n",
            "Preparing to unpack .../41-pandoc_2.9.2.1-3ubuntu2_amd64.deb ...\n",
            "Unpacking pandoc (2.9.2.1-3ubuntu2) ...\n",
            "Selecting previously unselected package preview-latex-style.\n",
            "Preparing to unpack .../42-preview-latex-style_12.2-1ubuntu1_all.deb ...\n",
            "Unpacking preview-latex-style (12.2-1ubuntu1) ...\n",
            "Selecting previously unselected package t1utils.\n",
            "Preparing to unpack .../43-t1utils_1.41-4build2_amd64.deb ...\n",
            "Unpacking t1utils (1.41-4build2) ...\n",
            "Selecting previously unselected package teckit.\n",
            "Preparing to unpack .../44-teckit_2.5.11+ds1-1_amd64.deb ...\n",
            "Unpacking teckit (2.5.11+ds1-1) ...\n",
            "Selecting previously unselected package tex-gyre.\n",
            "Preparing to unpack .../45-tex-gyre_20180621-3.1_all.deb ...\n",
            "Unpacking tex-gyre (20180621-3.1) ...\n",
            "Selecting previously unselected package texlive-binaries.\n",
            "Preparing to unpack .../46-texlive-binaries_2021.20210626.59705-1ubuntu0.2_amd64.deb ...\n",
            "Unpacking texlive-binaries (2021.20210626.59705-1ubuntu0.2) ...\n",
            "Selecting previously unselected package texlive-base.\n",
            "Preparing to unpack .../47-texlive-base_2021.20220204-1_all.deb ...\n",
            "Unpacking texlive-base (2021.20220204-1) ...\n",
            "Selecting previously unselected package texlive-fonts-recommended.\n",
            "Preparing to unpack .../48-texlive-fonts-recommended_2021.20220204-1_all.deb ...\n",
            "Unpacking texlive-fonts-recommended (2021.20220204-1) ...\n",
            "Selecting previously unselected package texlive-latex-base.\n",
            "Preparing to unpack .../49-texlive-latex-base_2021.20220204-1_all.deb ...\n",
            "Unpacking texlive-latex-base (2021.20220204-1) ...\n",
            "Selecting previously unselected package texlive-latex-recommended.\n",
            "Preparing to unpack .../50-texlive-latex-recommended_2021.20220204-1_all.deb ...\n",
            "Unpacking texlive-latex-recommended (2021.20220204-1) ...\n",
            "Selecting previously unselected package texlive.\n",
            "Preparing to unpack .../51-texlive_2021.20220204-1_all.deb ...\n",
            "Unpacking texlive (2021.20220204-1) ...\n",
            "Selecting previously unselected package libfontbox-java.\n",
            "Preparing to unpack .../52-libfontbox-java_1%3a1.8.16-2_all.deb ...\n",
            "Unpacking libfontbox-java (1:1.8.16-2) ...\n",
            "Selecting previously unselected package libpdfbox-java.\n",
            "Preparing to unpack .../53-libpdfbox-java_1%3a1.8.16-2_all.deb ...\n",
            "Unpacking libpdfbox-java (1:1.8.16-2) ...\n",
            "Selecting previously unselected package texlive-pictures.\n",
            "Preparing to unpack .../54-texlive-pictures_2021.20220204-1_all.deb ...\n",
            "Unpacking texlive-pictures (2021.20220204-1) ...\n",
            "Selecting previously unselected package texlive-latex-extra.\n",
            "Preparing to unpack .../55-texlive-latex-extra_2021.20220204-1_all.deb ...\n",
            "Unpacking texlive-latex-extra (2021.20220204-1) ...\n",
            "Selecting previously unselected package texlive-plain-generic.\n",
            "Preparing to unpack .../56-texlive-plain-generic_2021.20220204-1_all.deb ...\n",
            "Unpacking texlive-plain-generic (2021.20220204-1) ...\n",
            "Selecting previously unselected package tipa.\n",
            "Preparing to unpack .../57-tipa_2%3a1.3-21_all.deb ...\n",
            "Unpacking tipa (2:1.3-21) ...\n",
            "Selecting previously unselected package texlive-xetex.\n",
            "Preparing to unpack .../58-texlive-xetex_2021.20220204-1_all.deb ...\n",
            "Unpacking texlive-xetex (2021.20220204-1) ...\n",
            "Setting up fonts-lato (2.0-2.1) ...\n",
            "Setting up fonts-noto-mono (20201225-1build1) ...\n",
            "Setting up libwoff1:amd64 (1.0.2-1build4) ...\n",
            "Setting up libtexlua53:amd64 (2021.20210626.59705-1ubuntu0.2) ...\n",
            "Setting up libijs-0.35:amd64 (0.35-15build2) ...\n",
            "Setting up libtexluajit2:amd64 (2021.20210626.59705-1ubuntu0.2) ...\n",
            "Setting up libfontbox-java (1:1.8.16-2) ...\n",
            "Setting up rubygems-integration (1.18) ...\n",
            "Setting up libzzip-0-13:amd64 (0.13.72+dfsg.1-1.1) ...\n",
            "Setting up fonts-urw-base35 (20200910-1) ...\n",
            "Setting up poppler-data (0.4.11-1) ...\n",
            "Setting up tex-common (6.17) ...\n",
            "update-language: texlive-base not installed and configured, doing nothing!\n",
            "Setting up libfontenc1:amd64 (1:1.1.4-1build3) ...\n",
            "Setting up libjbig2dec0:amd64 (0.19-3build2) ...\n",
            "Setting up libteckit0:amd64 (2.5.11+ds1-1) ...\n",
            "Setting up libapache-pom-java (18-1) ...\n",
            "Setting up ruby-net-telnet (0.1.1-2) ...\n",
            "Setting up xfonts-encodings (1:1.0.5-0ubuntu2) ...\n",
            "Setting up t1utils (1.41-4build2) ...\n",
            "Setting up libidn12:amd64 (1.38-4ubuntu1) ...\n",
            "Setting up fonts-texgyre (20180621-3.1) ...\n",
            "Setting up libkpathsea6:amd64 (2021.20210626.59705-1ubuntu0.2) ...\n",
            "Setting up ruby-webrick (1.7.0-3) ...\n",
            "Setting up libcmark-gfm0.29.0.gfm.3:amd64 (0.29.0.gfm.3-3) ...\n",
            "Setting up fonts-lmodern (2.004.5-6.1) ...\n",
            "Setting up libcmark-gfm-extensions0.29.0.gfm.3:amd64 (0.29.0.gfm.3-3) ...\n",
            "Setting up fonts-droid-fallback (1:6.0.1r16-1.1build1) ...\n",
            "Setting up pandoc-data (2.9.2.1-3ubuntu2) ...\n",
            "Setting up ruby-xmlrpc (0.3.2-1ubuntu0.1) ...\n",
            "Setting up libsynctex2:amd64 (2021.20210626.59705-1ubuntu0.2) ...\n",
            "Setting up libgs9-common (9.55.0~dfsg1-0ubuntu5.9) ...\n",
            "Setting up teckit (2.5.11+ds1-1) ...\n",
            "Setting up libpdfbox-java (1:1.8.16-2) ...\n",
            "Setting up libgs9:amd64 (9.55.0~dfsg1-0ubuntu5.9) ...\n",
            "Setting up preview-latex-style (12.2-1ubuntu1) ...\n",
            "Setting up libcommons-parent-java (43-1) ...\n",
            "Setting up dvisvgm (2.13.1-1) ...\n",
            "Setting up libcommons-logging-java (1.2-2) ...\n",
            "Setting up xfonts-utils (1:7.7+6build2) ...\n",
            "Setting up libptexenc1:amd64 (2021.20210626.59705-1ubuntu0.2) ...\n",
            "Setting up pandoc (2.9.2.1-3ubuntu2) ...\n",
            "Setting up texlive-binaries (2021.20210626.59705-1ubuntu0.2) ...\n",
            "update-alternatives: using /usr/bin/xdvi-xaw to provide /usr/bin/xdvi.bin (xdvi.bin) in auto mode\n",
            "update-alternatives: using /usr/bin/bibtex.original to provide /usr/bin/bibtex (bibtex) in auto mode\n",
            "Setting up lmodern (2.004.5-6.1) ...\n",
            "Setting up texlive-base (2021.20220204-1) ...\n",
            "/usr/bin/ucfr\n",
            "/usr/bin/ucfr\n",
            "/usr/bin/ucfr\n",
            "/usr/bin/ucfr\n",
            "mktexlsr: Updating /var/lib/texmf/ls-R-TEXLIVEDIST... \n",
            "mktexlsr: Updating /var/lib/texmf/ls-R-TEXMFMAIN... \n",
            "mktexlsr: Updating /var/lib/texmf/ls-R... \n",
            "mktexlsr: Done.\n",
            "tl-paper: setting paper size for dvips to a4: /var/lib/texmf/dvips/config/config-paper.ps\n",
            "tl-paper: setting paper size for dvipdfmx to a4: /var/lib/texmf/dvipdfmx/dvipdfmx-paper.cfg\n",
            "tl-paper: setting paper size for xdvi to a4: /var/lib/texmf/xdvi/XDvi-paper\n",
            "tl-paper: setting paper size for pdftex to a4: /var/lib/texmf/tex/generic/tex-ini-files/pdftexconfig.tex\n",
            "Setting up tex-gyre (20180621-3.1) ...\n",
            "Setting up texlive-plain-generic (2021.20220204-1) ...\n",
            "Setting up texlive-latex-base (2021.20220204-1) ...\n",
            "Setting up texlive-latex-recommended (2021.20220204-1) ...\n",
            "Setting up texlive-pictures (2021.20220204-1) ...\n",
            "Setting up texlive-fonts-recommended (2021.20220204-1) ...\n",
            "Setting up tipa (2:1.3-21) ...\n",
            "Setting up texlive (2021.20220204-1) ...\n",
            "Setting up texlive-latex-extra (2021.20220204-1) ...\n",
            "Setting up texlive-xetex (2021.20220204-1) ...\n",
            "Setting up rake (13.0.6-2) ...\n",
            "Setting up libruby3.0:amd64 (3.0.2-7ubuntu2.7) ...\n",
            "Setting up ruby3.0 (3.0.2-7ubuntu2.7) ...\n",
            "Setting up ruby (1:3.0~exp1) ...\n",
            "Setting up ruby-rubygems (3.3.5-2) ...\n",
            "Processing triggers for man-db (2.10.2-1) ...\n",
            "Processing triggers for fontconfig (2.13.1-4.2ubuntu5) ...\n",
            "Processing triggers for libc-bin (2.35-0ubuntu3.4) ...\n",
            "/sbin/ldconfig.real: /usr/local/lib/libtbbmalloc_proxy.so.2 is not a symbolic link\n",
            "\n",
            "/sbin/ldconfig.real: /usr/local/lib/libtbb.so.12 is not a symbolic link\n",
            "\n",
            "/sbin/ldconfig.real: /usr/local/lib/libtbbbind_2_0.so.3 is not a symbolic link\n",
            "\n",
            "/sbin/ldconfig.real: /usr/local/lib/libur_loader.so.0 is not a symbolic link\n",
            "\n",
            "/sbin/ldconfig.real: /usr/local/lib/libur_adapter_level_zero.so.0 is not a symbolic link\n",
            "\n",
            "/sbin/ldconfig.real: /usr/local/lib/libtbbbind.so.3 is not a symbolic link\n",
            "\n",
            "/sbin/ldconfig.real: /usr/local/lib/libur_adapter_opencl.so.0 is not a symbolic link\n",
            "\n",
            "/sbin/ldconfig.real: /usr/local/lib/libtbbbind_2_5.so.3 is not a symbolic link\n",
            "\n",
            "/sbin/ldconfig.real: /usr/local/lib/libtbbmalloc.so.2 is not a symbolic link\n",
            "\n",
            "Processing triggers for tex-common (6.17) ...\n",
            "Running updmap-sys. This may take some time... done.\n",
            "Running mktexlsr /var/lib/texmf ... done.\n",
            "Building format(s) --all.\n",
            "\tThis may take some time... done.\n",
            "Collecting pypandoc\n",
            "  Downloading pypandoc-1.13-py3-none-any.whl.metadata (16 kB)\n",
            "Downloading pypandoc-1.13-py3-none-any.whl (21 kB)\n",
            "Installing collected packages: pypandoc\n",
            "Successfully installed pypandoc-1.13\n"
          ]
        }
      ]
    },
    {
      "cell_type": "code",
      "source": [
        "from google.colab import drive\n",
        "drive.mount('/content/drive')"
      ],
      "metadata": {
        "colab": {
          "base_uri": "https://localhost:8080/"
        },
        "id": "_U_bbFF5XLRR",
        "outputId": "95eb1d0b-fd9e-4014-e2ad-228888afa1e8"
      },
      "execution_count": 2,
      "outputs": [
        {
          "output_type": "stream",
          "name": "stdout",
          "text": [
            "Mounted at /content/drive\n"
          ]
        }
      ]
    },
    {
      "cell_type": "code",
      "source": [
        "!jupyter nbconvert --to PDF \"/content/drive/My Drive/Colab Notebooks/22070126061_NLP_Assignment_3.ipynb\""
      ],
      "metadata": {
        "colab": {
          "base_uri": "https://localhost:8080/"
        },
        "id": "4SW-X3H_XJdr",
        "outputId": "7e8d9b36-f940-4652-e754-4a5c7a898e59"
      },
      "execution_count": 3,
      "outputs": [
        {
          "output_type": "stream",
          "name": "stdout",
          "text": [
            "[NbConvertApp] Converting notebook /content/drive/My Drive/Colab Notebooks/22070126061_NLP_Assignment_3.ipynb to PDF\n",
            "[NbConvertApp] Writing 84856 bytes to notebook.tex\n",
            "[NbConvertApp] Building PDF\n",
            "[NbConvertApp] Running xelatex 3 times: ['xelatex', 'notebook.tex', '-quiet']\n",
            "[NbConvertApp] Running bibtex 1 time: ['bibtex', 'notebook']\n",
            "[NbConvertApp] WARNING | bibtex had problems, most likely because there were no citations\n",
            "[NbConvertApp] PDF successfully created\n",
            "[NbConvertApp] Writing 75309 bytes to /content/drive/My Drive/Colab Notebooks/22070126061_NLP_Assignment_3.pdf\n"
          ]
        }
      ]
    }
  ]
}